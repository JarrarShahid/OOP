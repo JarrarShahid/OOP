{
 "cells": [
  {
   "cell_type": "markdown",
   "id": "74053987",
   "metadata": {},
   "source": [
    "# Object-Oriented Programming in Python\n",
    "This notebook provides an interactive introduction to Object-Oriented Programming (OOP) in Python. You will learn key concepts through explanations and runnable code snippets."
   ]
  },
  {
   "cell_type": "markdown",
   "id": "c1457f00",
   "metadata": {},
   "source": [
    "## 1. Classes & Objects\n",
    "A **class** is a blueprint for creating objects, while an **object** is an instance of a class.\n",
    "\n",
    "### Example:"
   ]
  },
  {
   "cell_type": "code",
   "execution_count": null,
   "id": "a484f954",
   "metadata": {},
   "outputs": [],
   "source": [
    "class Car:\n",
    "    def __init__(self, brand, model, year):\n",
    "        self.brand = brand\n",
    "        self.model = model\n",
    "        self.year = year\n",
    "\n",
    "    def display_info(self):\n",
    "        return f'{self.year} {self.brand} {self.model}'\n",
    "\n",
    "# Creating an object\n",
    "car1 = Car('Toyota', 'Corolla', 2022)\n",
    "print(car1.display_info())"
   ]
  },
  {
   "cell_type": "markdown",
   "id": "d71763b4",
   "metadata": {},
   "source": [
    "## 2. Encapsulation\n",
    "Encapsulation restricts access to certain attributes. Private attributes are prefixed with `__`.\n",
    "\n",
    "### Example:"
   ]
  },
  {
   "cell_type": "code",
   "execution_count": null,
   "id": "b4e83510",
   "metadata": {},
   "outputs": [],
   "source": [
    "class BankAccount:\n",
    "    def __init__(self, balance):\n",
    "        self.__balance = balance  # Private attribute\n",
    "\n",
    "    def deposit(self, amount):\n",
    "        self.__balance += amount\n",
    "\n",
    "    def get_balance(self):\n",
    "        return self.__balance\n",
    "\n",
    "account = BankAccount(1000)\n",
    "account.deposit(500)\n",
    "print(account.get_balance())  # Accessible via method"
   ]
  },
  {
   "cell_type": "markdown",
   "id": "fbb57cac",
   "metadata": {},
   "source": [
    "## 3. Inheritance\n",
    "Inheritance allows a class to inherit attributes and methods from another class.\n",
    "\n",
    "### Example:"
   ]
  },
  {
   "cell_type": "code",
   "execution_count": null,
   "id": "fec55313",
   "metadata": {},
   "outputs": [],
   "source": [
    "class Animal:\n",
    "    def speak(self):\n",
    "        return 'Some sound'\n",
    "\n",
    "class Dog(Animal):\n",
    "    def speak(self):\n",
    "        return 'Bark!'\n",
    "\n",
    "dog = Dog()\n",
    "print(dog.speak())  # Output: Bark!"
   ]
  },
  {
   "cell_type": "markdown",
   "id": "2fdb1c93",
   "metadata": {},
   "source": [
    "## 4. Polymorphism\n",
    "Polymorphism allows methods in different classes to have the same name but different behaviors.\n",
    "\n",
    "### Example:"
   ]
  },
  {
   "cell_type": "code",
   "execution_count": null,
   "id": "6014dff9",
   "metadata": {},
   "outputs": [],
   "source": [
    "class Bird:\n",
    "    def fly(self):\n",
    "        return 'Flying'\n",
    "\n",
    "class Penguin(Bird):\n",
    "    def fly(self):\n",
    "        return 'Penguins cannot fly!'\n",
    "\n",
    "bird = Bird()\n",
    "penguin = Penguin()\n",
    "print(bird.fly())  # Output: Flying\n",
    "print(penguin.fly())  # Output: Penguins cannot fly!"
   ]
  },
  {
   "cell_type": "markdown",
   "id": "62a8cc0c",
   "metadata": {},
   "source": [
    "## 5. Abstraction\n",
    "Abstraction hides implementation details using abstract classes and methods.\n",
    "\n",
    "### Example:"
   ]
  },
  {
   "cell_type": "code",
   "execution_count": null,
   "id": "4cdceb39",
   "metadata": {},
   "outputs": [],
   "source": [
    "from abc import ABC, abstractmethod\n",
    "\n",
    "class Vehicle(ABC):\n",
    "    @abstractmethod\n",
    "    def start_engine(self):\n",
    "        pass\n",
    "\n",
    "class Car(Vehicle):\n",
    "    def start_engine(self):\n",
    "        return 'Car engine started'\n",
    "\n",
    "my_car = Car()\n",
    "print(my_car.start_engine())  # Output: Car engine started"
   ]
  },
  {
   "cell_type": "markdown",
   "id": "81bd7dc1",
   "metadata": {},
   "source": [
    "## Summary\n",
    "- **Classes & Objects:** Blueprint and instances\n",
    "- **Encapsulation:** Restricting access to attributes\n",
    "- **Inheritance:** Reusing code from parent classes\n",
    "- **Polymorphism:** Same method name, different behaviors\n",
    "- **Abstraction:** Hiding implementation details\n",
    "\n",
    "Now, try modifying the examples and running them! 🚀"
   ]
  }
 ],
 "metadata": {},
 "nbformat": 4,
 "nbformat_minor": 5
}