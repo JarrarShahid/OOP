{
 "cells": [
  {
   "cell_type": "markdown",
   "id": "7ed35767",
   "metadata": {},
   "source": [
    "# Design Patterns in Python\n",
    "This notebook provides an overview of key design patterns used in software development with practical Python examples.\n",
    "\n",
    "**Categories of Design Patterns:**\n",
    "- Creational Patterns: Singleton, Factory, Prototype\n",
    "- Structural Patterns: Adapter, Composite\n",
    "- Behavioral Patterns: Observer, Strategy, Command, Mediator\n"
   ]
  },
  {
   "cell_type": "markdown",
   "id": "2c122035",
   "metadata": {},
   "source": [
    "## Creational Patterns: Singleton\n",
    "**Purpose:** Ensures that a class has only one instance and provides a global point of access.\n",
    "\n",
    "**Example:** Logger instance"
   ]
  },
  {
   "cell_type": "code",
   "execution_count": null,
   "id": "b67af2f5",
   "metadata": {},
   "outputs": [],
   "source": [
    "class Singleton:\n",
    "    _instance = None\n",
    "\n",
    "    def __new__(cls):\n",
    "        if cls._instance is None:\n",
    "            cls._instance = super().__new__(cls)\n",
    "        return cls._instance\n",
    "\n",
    "# Test Singleton\n",
    "s1 = Singleton()\n",
    "s2 = Singleton()\n",
    "print(s1 is s2)  # True"
   ]
  },
  {
   "cell_type": "markdown",
   "id": "9af971f4",
   "metadata": {},
   "source": [
    "## Creational Patterns: Factory\n",
    "**Purpose:** Creates objects without specifying the exact class to instantiate.\n",
    "\n",
    "**Example:** Shape Factory"
   ]
  },
  {
   "cell_type": "code",
   "execution_count": null,
   "id": "70ee94f3",
   "metadata": {},
   "outputs": [],
   "source": [
    "class Shape:\n",
    "    def draw(self):\n",
    "        pass\n",
    "\n",
    "class Circle(Shape):\n",
    "    def draw(self):\n",
    "        return 'Drawing Circle'\n",
    "\n",
    "class Square(Shape):\n",
    "    def draw(self):\n",
    "        return 'Drawing Square'\n",
    "\n",
    "class ShapeFactory:\n",
    "    @staticmethod\n",
    "    def get_shape(shape_type):\n",
    "        if shape_type == 'circle':\n",
    "            return Circle()\n",
    "        elif shape_type == 'square':\n",
    "            return Square()\n",
    "\n",
    "# Test Factory\n",
    "shape = ShapeFactory.get_shape('circle')\n",
    "print(shape.draw())  # Drawing Circle"
   ]
  },
  {
   "cell_type": "markdown",
   "id": "35f88e3f",
   "metadata": {},
   "source": [
    "## Structural Patterns: Adapter\n",
    "**Purpose:** Converts an interface of a class into another interface that clients expect.\n",
    "\n",
    "**Example:** Power Adapter"
   ]
  },
  {
   "cell_type": "code",
   "execution_count": null,
   "id": "619542e0",
   "metadata": {},
   "outputs": [],
   "source": [
    "class EuropeanSocket:\n",
    "    def voltage(self):\n",
    "        return '220V'\n",
    "\n",
    "class USASocket:\n",
    "    def voltage(self):\n",
    "        return '110V'\n",
    "\n",
    "class SocketAdapter:\n",
    "    def __init__(self, socket):\n",
    "        self.socket = socket\n",
    "\n",
    "    def voltage(self):\n",
    "        return self.socket.voltage()\n",
    "\n",
    "# Test Adapter\n",
    "european_socket = EuropeanSocket()\n",
    "adapter = SocketAdapter(european_socket)\n",
    "print(adapter.voltage())  # 220V"
   ]
  },
  {
   "cell_type": "markdown",
   "id": "2bab5892",
   "metadata": {},
   "source": [
    "## Behavioral Patterns: Observer\n",
    "**Purpose:** Defines a dependency between objects so that when one object changes state, all its dependents are notified.\n",
    "\n",
    "**Example:** News Subscriber System"
   ]
  },
  {
   "cell_type": "code",
   "execution_count": null,
   "id": "5b42333f",
   "metadata": {},
   "outputs": [],
   "source": [
    "class NewsPublisher:\n",
    "    def __init__(self):\n",
    "        self.subscribers = []\n",
    "\n",
    "    def subscribe(self, subscriber):\n",
    "        self.subscribers.append(subscriber)\n",
    "\n",
    "    def notify(self, news):\n",
    "        for subscriber in self.subscribers:\n",
    "            subscriber.update(news)\n",
    "\n",
    "class Subscriber:\n",
    "    def __init__(self, name):\n",
    "        self.name = name\n",
    "\n",
    "    def update(self, news):\n",
    "        print(f'{self.name} received news: {news}')\n",
    "\n",
    "# Test Observer\n",
    "news_publisher = NewsPublisher()\n",
    "alice = Subscriber('Alice')\n",
    "bob = Subscriber('Bob')\n",
    "news_publisher.subscribe(alice)\n",
    "news_publisher.subscribe(bob)\n",
    "news_publisher.notify('New Python version released!')"
   ]
  },
  {
   "cell_type": "markdown",
   "id": "3230eb27",
   "metadata": {},
   "source": [
    "## Conclusion\n",
    "Design patterns help structure code in a reusable, scalable way. This notebook demonstrated examples of different patterns in Python."
   ]
  }
 ],
 "metadata": {},
 "nbformat": 4,
 "nbformat_minor": 5
}